{
 "cells": [
  {
   "cell_type": "code",
   "execution_count": 318,
   "metadata": {},
   "outputs": [],
   "source": [
    "#importing Libraries\n",
    "import os\n",
    "import numpy as np\n",
    "import pandas as pd\n",
    "from scipy.stats import chi2_contingency\n",
    "import matplotlib.pyplot as plt\n",
    "import seaborn as sns\n",
    "from fancyimpute import KNN"
   ]
  },
  {
   "cell_type": "code",
   "execution_count": 319,
   "metadata": {},
   "outputs": [
    {
     "data": {
      "text/plain": [
       "'C:\\\\Users\\\\ABC\\\\Python'"
      ]
     },
     "execution_count": 319,
     "metadata": {},
     "output_type": "execute_result"
    }
   ],
   "source": [
    "os.getcwd()"
   ]
  },
  {
   "cell_type": "code",
   "execution_count": 320,
   "metadata": {},
   "outputs": [],
   "source": [
    "# Reading test and train data\n",
    "churn_train = pd.read_csv(\"E:\\Edwisor\\Projects\\Churn Reduction\\Train_data.csv\", sep = ',')\n",
    "churn_test=pd.read_csv(\"E:\\Edwisor\\Projects\\Churn Reduction\\Test_data.csv\", sep = ',')"
   ]
  },
  {
   "cell_type": "code",
   "execution_count": 321,
   "metadata": {},
   "outputs": [
    {
     "data": {
      "text/plain": [
       "(3333, 21)"
      ]
     },
     "execution_count": 321,
     "metadata": {},
     "output_type": "execute_result"
    }
   ],
   "source": [
    "churn_train.shape"
   ]
  },
  {
   "cell_type": "code",
   "execution_count": 322,
   "metadata": {},
   "outputs": [
    {
     "data": {
      "text/plain": [
       "(1667, 21)"
      ]
     },
     "execution_count": 322,
     "metadata": {},
     "output_type": "execute_result"
    }
   ],
   "source": [
    "churn_test.shape"
   ]
  },
  {
   "cell_type": "code",
   "execution_count": 323,
   "metadata": {},
   "outputs": [],
   "source": [
    "# Combining train and test data\n",
    "train_data=churn_train.append(churn_test)"
   ]
  },
  {
   "cell_type": "code",
   "execution_count": 324,
   "metadata": {},
   "outputs": [
    {
     "data": {
      "text/html": [
       "<div>\n",
       "<style scoped>\n",
       "    .dataframe tbody tr th:only-of-type {\n",
       "        vertical-align: middle;\n",
       "    }\n",
       "\n",
       "    .dataframe tbody tr th {\n",
       "        vertical-align: top;\n",
       "    }\n",
       "\n",
       "    .dataframe thead th {\n",
       "        text-align: right;\n",
       "    }\n",
       "</style>\n",
       "<table border=\"1\" class=\"dataframe\">\n",
       "  <thead>\n",
       "    <tr style=\"text-align: right;\">\n",
       "      <th></th>\n",
       "      <th>state</th>\n",
       "      <th>account length</th>\n",
       "      <th>area code</th>\n",
       "      <th>phone number</th>\n",
       "      <th>international plan</th>\n",
       "      <th>voice mail plan</th>\n",
       "      <th>number vmail messages</th>\n",
       "      <th>total day minutes</th>\n",
       "      <th>total day calls</th>\n",
       "      <th>total day charge</th>\n",
       "      <th>...</th>\n",
       "      <th>total eve calls</th>\n",
       "      <th>total eve charge</th>\n",
       "      <th>total night minutes</th>\n",
       "      <th>total night calls</th>\n",
       "      <th>total night charge</th>\n",
       "      <th>total intl minutes</th>\n",
       "      <th>total intl calls</th>\n",
       "      <th>total intl charge</th>\n",
       "      <th>number customer service calls</th>\n",
       "      <th>Churn</th>\n",
       "    </tr>\n",
       "  </thead>\n",
       "  <tbody>\n",
       "    <tr>\n",
       "      <th>0</th>\n",
       "      <td>KS</td>\n",
       "      <td>128</td>\n",
       "      <td>415</td>\n",
       "      <td>382-4657</td>\n",
       "      <td>no</td>\n",
       "      <td>yes</td>\n",
       "      <td>25</td>\n",
       "      <td>265.1</td>\n",
       "      <td>110</td>\n",
       "      <td>45.07</td>\n",
       "      <td>...</td>\n",
       "      <td>99</td>\n",
       "      <td>16.78</td>\n",
       "      <td>244.7</td>\n",
       "      <td>91</td>\n",
       "      <td>11.01</td>\n",
       "      <td>10.0</td>\n",
       "      <td>3</td>\n",
       "      <td>2.70</td>\n",
       "      <td>1</td>\n",
       "      <td>False.</td>\n",
       "    </tr>\n",
       "    <tr>\n",
       "      <th>1</th>\n",
       "      <td>OH</td>\n",
       "      <td>107</td>\n",
       "      <td>415</td>\n",
       "      <td>371-7191</td>\n",
       "      <td>no</td>\n",
       "      <td>yes</td>\n",
       "      <td>26</td>\n",
       "      <td>161.6</td>\n",
       "      <td>123</td>\n",
       "      <td>27.47</td>\n",
       "      <td>...</td>\n",
       "      <td>103</td>\n",
       "      <td>16.62</td>\n",
       "      <td>254.4</td>\n",
       "      <td>103</td>\n",
       "      <td>11.45</td>\n",
       "      <td>13.7</td>\n",
       "      <td>3</td>\n",
       "      <td>3.70</td>\n",
       "      <td>1</td>\n",
       "      <td>False.</td>\n",
       "    </tr>\n",
       "    <tr>\n",
       "      <th>2</th>\n",
       "      <td>NJ</td>\n",
       "      <td>137</td>\n",
       "      <td>415</td>\n",
       "      <td>358-1921</td>\n",
       "      <td>no</td>\n",
       "      <td>no</td>\n",
       "      <td>0</td>\n",
       "      <td>243.4</td>\n",
       "      <td>114</td>\n",
       "      <td>41.38</td>\n",
       "      <td>...</td>\n",
       "      <td>110</td>\n",
       "      <td>10.30</td>\n",
       "      <td>162.6</td>\n",
       "      <td>104</td>\n",
       "      <td>7.32</td>\n",
       "      <td>12.2</td>\n",
       "      <td>5</td>\n",
       "      <td>3.29</td>\n",
       "      <td>0</td>\n",
       "      <td>False.</td>\n",
       "    </tr>\n",
       "    <tr>\n",
       "      <th>3</th>\n",
       "      <td>OH</td>\n",
       "      <td>84</td>\n",
       "      <td>408</td>\n",
       "      <td>375-9999</td>\n",
       "      <td>yes</td>\n",
       "      <td>no</td>\n",
       "      <td>0</td>\n",
       "      <td>299.4</td>\n",
       "      <td>71</td>\n",
       "      <td>50.90</td>\n",
       "      <td>...</td>\n",
       "      <td>88</td>\n",
       "      <td>5.26</td>\n",
       "      <td>196.9</td>\n",
       "      <td>89</td>\n",
       "      <td>8.86</td>\n",
       "      <td>6.6</td>\n",
       "      <td>7</td>\n",
       "      <td>1.78</td>\n",
       "      <td>2</td>\n",
       "      <td>False.</td>\n",
       "    </tr>\n",
       "    <tr>\n",
       "      <th>4</th>\n",
       "      <td>OK</td>\n",
       "      <td>75</td>\n",
       "      <td>415</td>\n",
       "      <td>330-6626</td>\n",
       "      <td>yes</td>\n",
       "      <td>no</td>\n",
       "      <td>0</td>\n",
       "      <td>166.7</td>\n",
       "      <td>113</td>\n",
       "      <td>28.34</td>\n",
       "      <td>...</td>\n",
       "      <td>122</td>\n",
       "      <td>12.61</td>\n",
       "      <td>186.9</td>\n",
       "      <td>121</td>\n",
       "      <td>8.41</td>\n",
       "      <td>10.1</td>\n",
       "      <td>3</td>\n",
       "      <td>2.73</td>\n",
       "      <td>3</td>\n",
       "      <td>False.</td>\n",
       "    </tr>\n",
       "    <tr>\n",
       "      <th>5</th>\n",
       "      <td>AL</td>\n",
       "      <td>118</td>\n",
       "      <td>510</td>\n",
       "      <td>391-8027</td>\n",
       "      <td>yes</td>\n",
       "      <td>no</td>\n",
       "      <td>0</td>\n",
       "      <td>223.4</td>\n",
       "      <td>98</td>\n",
       "      <td>37.98</td>\n",
       "      <td>...</td>\n",
       "      <td>101</td>\n",
       "      <td>18.75</td>\n",
       "      <td>203.9</td>\n",
       "      <td>118</td>\n",
       "      <td>9.18</td>\n",
       "      <td>6.3</td>\n",
       "      <td>6</td>\n",
       "      <td>1.70</td>\n",
       "      <td>0</td>\n",
       "      <td>False.</td>\n",
       "    </tr>\n",
       "    <tr>\n",
       "      <th>6</th>\n",
       "      <td>MA</td>\n",
       "      <td>121</td>\n",
       "      <td>510</td>\n",
       "      <td>355-9993</td>\n",
       "      <td>no</td>\n",
       "      <td>yes</td>\n",
       "      <td>24</td>\n",
       "      <td>218.2</td>\n",
       "      <td>88</td>\n",
       "      <td>37.09</td>\n",
       "      <td>...</td>\n",
       "      <td>108</td>\n",
       "      <td>29.62</td>\n",
       "      <td>212.6</td>\n",
       "      <td>118</td>\n",
       "      <td>9.57</td>\n",
       "      <td>7.5</td>\n",
       "      <td>7</td>\n",
       "      <td>2.03</td>\n",
       "      <td>3</td>\n",
       "      <td>False.</td>\n",
       "    </tr>\n",
       "    <tr>\n",
       "      <th>7</th>\n",
       "      <td>MO</td>\n",
       "      <td>147</td>\n",
       "      <td>415</td>\n",
       "      <td>329-9001</td>\n",
       "      <td>yes</td>\n",
       "      <td>no</td>\n",
       "      <td>0</td>\n",
       "      <td>157.0</td>\n",
       "      <td>79</td>\n",
       "      <td>26.69</td>\n",
       "      <td>...</td>\n",
       "      <td>94</td>\n",
       "      <td>8.76</td>\n",
       "      <td>211.8</td>\n",
       "      <td>96</td>\n",
       "      <td>9.53</td>\n",
       "      <td>7.1</td>\n",
       "      <td>6</td>\n",
       "      <td>1.92</td>\n",
       "      <td>0</td>\n",
       "      <td>False.</td>\n",
       "    </tr>\n",
       "    <tr>\n",
       "      <th>8</th>\n",
       "      <td>LA</td>\n",
       "      <td>117</td>\n",
       "      <td>408</td>\n",
       "      <td>335-4719</td>\n",
       "      <td>no</td>\n",
       "      <td>no</td>\n",
       "      <td>0</td>\n",
       "      <td>184.5</td>\n",
       "      <td>97</td>\n",
       "      <td>31.37</td>\n",
       "      <td>...</td>\n",
       "      <td>80</td>\n",
       "      <td>29.89</td>\n",
       "      <td>215.8</td>\n",
       "      <td>90</td>\n",
       "      <td>9.71</td>\n",
       "      <td>8.7</td>\n",
       "      <td>4</td>\n",
       "      <td>2.35</td>\n",
       "      <td>1</td>\n",
       "      <td>False.</td>\n",
       "    </tr>\n",
       "    <tr>\n",
       "      <th>9</th>\n",
       "      <td>WV</td>\n",
       "      <td>141</td>\n",
       "      <td>415</td>\n",
       "      <td>330-8173</td>\n",
       "      <td>yes</td>\n",
       "      <td>yes</td>\n",
       "      <td>37</td>\n",
       "      <td>258.6</td>\n",
       "      <td>84</td>\n",
       "      <td>43.96</td>\n",
       "      <td>...</td>\n",
       "      <td>111</td>\n",
       "      <td>18.87</td>\n",
       "      <td>326.4</td>\n",
       "      <td>97</td>\n",
       "      <td>14.69</td>\n",
       "      <td>11.2</td>\n",
       "      <td>5</td>\n",
       "      <td>3.02</td>\n",
       "      <td>0</td>\n",
       "      <td>False.</td>\n",
       "    </tr>\n",
       "  </tbody>\n",
       "</table>\n",
       "<p>10 rows × 21 columns</p>\n",
       "</div>"
      ],
      "text/plain": [
       "  state  account length  area code phone number international plan  \\\n",
       "0    KS             128        415     382-4657                 no   \n",
       "1    OH             107        415     371-7191                 no   \n",
       "2    NJ             137        415     358-1921                 no   \n",
       "3    OH              84        408     375-9999                yes   \n",
       "4    OK              75        415     330-6626                yes   \n",
       "5    AL             118        510     391-8027                yes   \n",
       "6    MA             121        510     355-9993                 no   \n",
       "7    MO             147        415     329-9001                yes   \n",
       "8    LA             117        408     335-4719                 no   \n",
       "9    WV             141        415     330-8173                yes   \n",
       "\n",
       "  voice mail plan  number vmail messages  total day minutes  total day calls  \\\n",
       "0             yes                     25              265.1              110   \n",
       "1             yes                     26              161.6              123   \n",
       "2              no                      0              243.4              114   \n",
       "3              no                      0              299.4               71   \n",
       "4              no                      0              166.7              113   \n",
       "5              no                      0              223.4               98   \n",
       "6             yes                     24              218.2               88   \n",
       "7              no                      0              157.0               79   \n",
       "8              no                      0              184.5               97   \n",
       "9             yes                     37              258.6               84   \n",
       "\n",
       "   total day charge  ...  total eve calls  total eve charge  \\\n",
       "0             45.07  ...               99             16.78   \n",
       "1             27.47  ...              103             16.62   \n",
       "2             41.38  ...              110             10.30   \n",
       "3             50.90  ...               88              5.26   \n",
       "4             28.34  ...              122             12.61   \n",
       "5             37.98  ...              101             18.75   \n",
       "6             37.09  ...              108             29.62   \n",
       "7             26.69  ...               94              8.76   \n",
       "8             31.37  ...               80             29.89   \n",
       "9             43.96  ...              111             18.87   \n",
       "\n",
       "   total night minutes  total night calls  total night charge  \\\n",
       "0                244.7                 91               11.01   \n",
       "1                254.4                103               11.45   \n",
       "2                162.6                104                7.32   \n",
       "3                196.9                 89                8.86   \n",
       "4                186.9                121                8.41   \n",
       "5                203.9                118                9.18   \n",
       "6                212.6                118                9.57   \n",
       "7                211.8                 96                9.53   \n",
       "8                215.8                 90                9.71   \n",
       "9                326.4                 97               14.69   \n",
       "\n",
       "   total intl minutes  total intl calls  total intl charge  \\\n",
       "0                10.0                 3               2.70   \n",
       "1                13.7                 3               3.70   \n",
       "2                12.2                 5               3.29   \n",
       "3                 6.6                 7               1.78   \n",
       "4                10.1                 3               2.73   \n",
       "5                 6.3                 6               1.70   \n",
       "6                 7.5                 7               2.03   \n",
       "7                 7.1                 6               1.92   \n",
       "8                 8.7                 4               2.35   \n",
       "9                11.2                 5               3.02   \n",
       "\n",
       "   number customer service calls    Churn  \n",
       "0                              1   False.  \n",
       "1                              1   False.  \n",
       "2                              0   False.  \n",
       "3                              2   False.  \n",
       "4                              3   False.  \n",
       "5                              0   False.  \n",
       "6                              3   False.  \n",
       "7                              0   False.  \n",
       "8                              1   False.  \n",
       "9                              0   False.  \n",
       "\n",
       "[10 rows x 21 columns]"
      ]
     },
     "execution_count": 324,
     "metadata": {},
     "output_type": "execute_result"
    }
   ],
   "source": [
    "train_data.head(10)"
   ]
  },
  {
   "cell_type": "code",
   "execution_count": 325,
   "metadata": {},
   "outputs": [
    {
     "data": {
      "text/plain": [
       "(5000, 21)"
      ]
     },
     "execution_count": 325,
     "metadata": {},
     "output_type": "execute_result"
    }
   ],
   "source": [
    "train_data.shape"
   ]
  },
  {
   "cell_type": "code",
   "execution_count": 326,
   "metadata": {},
   "outputs": [
    {
     "name": "stdout",
     "output_type": "stream",
     "text": [
      "<class 'pandas.core.frame.DataFrame'>\n",
      "Int64Index: 5000 entries, 0 to 1666\n",
      "Data columns (total 21 columns):\n",
      "state                            5000 non-null object\n",
      "account length                   5000 non-null int64\n",
      "area code                        5000 non-null int64\n",
      "phone number                     5000 non-null object\n",
      "international plan               5000 non-null object\n",
      "voice mail plan                  5000 non-null object\n",
      "number vmail messages            5000 non-null int64\n",
      "total day minutes                5000 non-null float64\n",
      "total day calls                  5000 non-null int64\n",
      "total day charge                 5000 non-null float64\n",
      "total eve minutes                5000 non-null float64\n",
      "total eve calls                  5000 non-null int64\n",
      "total eve charge                 5000 non-null float64\n",
      "total night minutes              5000 non-null float64\n",
      "total night calls                5000 non-null int64\n",
      "total night charge               5000 non-null float64\n",
      "total intl minutes               5000 non-null float64\n",
      "total intl calls                 5000 non-null int64\n",
      "total intl charge                5000 non-null float64\n",
      "number customer service calls    5000 non-null int64\n",
      "Churn                            5000 non-null object\n",
      "dtypes: float64(8), int64(8), object(5)\n",
      "memory usage: 859.4+ KB\n"
     ]
    }
   ],
   "source": [
    " train_data.info()"
   ]
  },
  {
   "cell_type": "code",
   "execution_count": 327,
   "metadata": {},
   "outputs": [],
   "source": [
    "# Extracting predictive variables\n",
    "\n",
    "train_data= train_data.drop(['area code','state','phone number'],axis=1)"
   ]
  },
  {
   "cell_type": "code",
   "execution_count": 328,
   "metadata": {},
   "outputs": [
    {
     "data": {
      "text/plain": [
       "(5000, 18)"
      ]
     },
     "execution_count": 328,
     "metadata": {},
     "output_type": "execute_result"
    }
   ],
   "source": [
    "train_data.shape"
   ]
  },
  {
   "cell_type": "code",
   "execution_count": 329,
   "metadata": {},
   "outputs": [
    {
     "data": {
      "text/plain": [
       "Index(['account length', 'international plan', 'voice mail plan',\n",
       "       'number vmail messages', 'total day minutes', 'total day calls',\n",
       "       'total day charge', 'total eve minutes', 'total eve calls',\n",
       "       'total eve charge', 'total night minutes', 'total night calls',\n",
       "       'total night charge', 'total intl minutes', 'total intl calls',\n",
       "       'total intl charge', 'number customer service calls', 'Churn'],\n",
       "      dtype='object')"
      ]
     },
     "execution_count": 329,
     "metadata": {},
     "output_type": "execute_result"
    }
   ],
   "source": [
    "train_data.columns"
   ]
  },
  {
   "cell_type": "code",
   "execution_count": 192,
   "metadata": {},
   "outputs": [],
   "source": [
    "#Assigning levels to the categories\n",
    "lis=[]\n",
    "for i in range (0, train_data.shape[1]):\n",
    "        if(train_data.iloc[:,i].dtypes == 'object'):\n",
    "            train_data.iloc[:,i]=pd.Categorical(train_data.iloc[:,i])\n",
    "            train_data.iloc[:,i]=train_data.iloc[:,i].cat.codes\n",
    "            train_data.iloc[:,i]=train_data.iloc[:,i].astype('object')\n",
    "            lis.append(train_data.columns[i])"
   ]
  },
  {
   "cell_type": "code",
   "execution_count": 193,
   "metadata": {},
   "outputs": [
    {
     "data": {
      "text/plain": [
       "['international plan', 'voice mail plan', 'Churn']"
      ]
     },
     "execution_count": 193,
     "metadata": {},
     "output_type": "execute_result"
    }
   ],
   "source": [
    "lis"
   ]
  },
  {
   "cell_type": "code",
   "execution_count": 194,
   "metadata": {},
   "outputs": [
    {
     "data": {
      "text/html": [
       "<div>\n",
       "<style scoped>\n",
       "    .dataframe tbody tr th:only-of-type {\n",
       "        vertical-align: middle;\n",
       "    }\n",
       "\n",
       "    .dataframe tbody tr th {\n",
       "        vertical-align: top;\n",
       "    }\n",
       "\n",
       "    .dataframe thead th {\n",
       "        text-align: right;\n",
       "    }\n",
       "</style>\n",
       "<table border=\"1\" class=\"dataframe\">\n",
       "  <thead>\n",
       "    <tr style=\"text-align: right;\">\n",
       "      <th></th>\n",
       "      <th>account length</th>\n",
       "      <th>international plan</th>\n",
       "      <th>voice mail plan</th>\n",
       "      <th>number vmail messages</th>\n",
       "      <th>total day minutes</th>\n",
       "      <th>total day calls</th>\n",
       "      <th>total day charge</th>\n",
       "      <th>total eve minutes</th>\n",
       "      <th>total eve calls</th>\n",
       "      <th>total eve charge</th>\n",
       "      <th>total night minutes</th>\n",
       "      <th>total night calls</th>\n",
       "      <th>total night charge</th>\n",
       "      <th>total intl minutes</th>\n",
       "      <th>total intl calls</th>\n",
       "      <th>total intl charge</th>\n",
       "      <th>number customer service calls</th>\n",
       "      <th>Churn</th>\n",
       "    </tr>\n",
       "  </thead>\n",
       "  <tbody>\n",
       "    <tr>\n",
       "      <th>0</th>\n",
       "      <td>128</td>\n",
       "      <td>0</td>\n",
       "      <td>1</td>\n",
       "      <td>25</td>\n",
       "      <td>265.1</td>\n",
       "      <td>110</td>\n",
       "      <td>45.07</td>\n",
       "      <td>197.4</td>\n",
       "      <td>99</td>\n",
       "      <td>16.78</td>\n",
       "      <td>244.7</td>\n",
       "      <td>91</td>\n",
       "      <td>11.01</td>\n",
       "      <td>10.0</td>\n",
       "      <td>3</td>\n",
       "      <td>2.70</td>\n",
       "      <td>1</td>\n",
       "      <td>0</td>\n",
       "    </tr>\n",
       "    <tr>\n",
       "      <th>1</th>\n",
       "      <td>107</td>\n",
       "      <td>0</td>\n",
       "      <td>1</td>\n",
       "      <td>26</td>\n",
       "      <td>161.6</td>\n",
       "      <td>123</td>\n",
       "      <td>27.47</td>\n",
       "      <td>195.5</td>\n",
       "      <td>103</td>\n",
       "      <td>16.62</td>\n",
       "      <td>254.4</td>\n",
       "      <td>103</td>\n",
       "      <td>11.45</td>\n",
       "      <td>13.7</td>\n",
       "      <td>3</td>\n",
       "      <td>3.70</td>\n",
       "      <td>1</td>\n",
       "      <td>0</td>\n",
       "    </tr>\n",
       "    <tr>\n",
       "      <th>2</th>\n",
       "      <td>137</td>\n",
       "      <td>0</td>\n",
       "      <td>0</td>\n",
       "      <td>0</td>\n",
       "      <td>243.4</td>\n",
       "      <td>114</td>\n",
       "      <td>41.38</td>\n",
       "      <td>121.2</td>\n",
       "      <td>110</td>\n",
       "      <td>10.30</td>\n",
       "      <td>162.6</td>\n",
       "      <td>104</td>\n",
       "      <td>7.32</td>\n",
       "      <td>12.2</td>\n",
       "      <td>5</td>\n",
       "      <td>3.29</td>\n",
       "      <td>0</td>\n",
       "      <td>0</td>\n",
       "    </tr>\n",
       "    <tr>\n",
       "      <th>3</th>\n",
       "      <td>84</td>\n",
       "      <td>1</td>\n",
       "      <td>0</td>\n",
       "      <td>0</td>\n",
       "      <td>299.4</td>\n",
       "      <td>71</td>\n",
       "      <td>50.90</td>\n",
       "      <td>61.9</td>\n",
       "      <td>88</td>\n",
       "      <td>5.26</td>\n",
       "      <td>196.9</td>\n",
       "      <td>89</td>\n",
       "      <td>8.86</td>\n",
       "      <td>6.6</td>\n",
       "      <td>7</td>\n",
       "      <td>1.78</td>\n",
       "      <td>2</td>\n",
       "      <td>0</td>\n",
       "    </tr>\n",
       "    <tr>\n",
       "      <th>4</th>\n",
       "      <td>75</td>\n",
       "      <td>1</td>\n",
       "      <td>0</td>\n",
       "      <td>0</td>\n",
       "      <td>166.7</td>\n",
       "      <td>113</td>\n",
       "      <td>28.34</td>\n",
       "      <td>148.3</td>\n",
       "      <td>122</td>\n",
       "      <td>12.61</td>\n",
       "      <td>186.9</td>\n",
       "      <td>121</td>\n",
       "      <td>8.41</td>\n",
       "      <td>10.1</td>\n",
       "      <td>3</td>\n",
       "      <td>2.73</td>\n",
       "      <td>3</td>\n",
       "      <td>0</td>\n",
       "    </tr>\n",
       "  </tbody>\n",
       "</table>\n",
       "</div>"
      ],
      "text/plain": [
       "   account length international plan voice mail plan  number vmail messages  \\\n",
       "0             128                  0               1                     25   \n",
       "1             107                  0               1                     26   \n",
       "2             137                  0               0                      0   \n",
       "3              84                  1               0                      0   \n",
       "4              75                  1               0                      0   \n",
       "\n",
       "   total day minutes  total day calls  total day charge  total eve minutes  \\\n",
       "0              265.1              110             45.07              197.4   \n",
       "1              161.6              123             27.47              195.5   \n",
       "2              243.4              114             41.38              121.2   \n",
       "3              299.4               71             50.90               61.9   \n",
       "4              166.7              113             28.34              148.3   \n",
       "\n",
       "   total eve calls  total eve charge  total night minutes  total night calls  \\\n",
       "0               99             16.78                244.7                 91   \n",
       "1              103             16.62                254.4                103   \n",
       "2              110             10.30                162.6                104   \n",
       "3               88              5.26                196.9                 89   \n",
       "4              122             12.61                186.9                121   \n",
       "\n",
       "   total night charge  total intl minutes  total intl calls  \\\n",
       "0               11.01                10.0                 3   \n",
       "1               11.45                13.7                 3   \n",
       "2                7.32                12.2                 5   \n",
       "3                8.86                 6.6                 7   \n",
       "4                8.41                10.1                 3   \n",
       "\n",
       "   total intl charge  number customer service calls Churn  \n",
       "0               2.70                              1     0  \n",
       "1               3.70                              1     0  \n",
       "2               3.29                              0     0  \n",
       "3               1.78                              2     0  \n",
       "4               2.73                              3     0  "
      ]
     },
     "execution_count": 194,
     "metadata": {},
     "output_type": "execute_result"
    }
   ],
   "source": [
    "train_data.head()"
   ]
  },
  {
   "cell_type": "code",
   "execution_count": 195,
   "metadata": {},
   "outputs": [
    {
     "data": {
      "text/html": [
       "<div>\n",
       "<style scoped>\n",
       "    .dataframe tbody tr th:only-of-type {\n",
       "        vertical-align: middle;\n",
       "    }\n",
       "\n",
       "    .dataframe tbody tr th {\n",
       "        vertical-align: top;\n",
       "    }\n",
       "\n",
       "    .dataframe thead th {\n",
       "        text-align: right;\n",
       "    }\n",
       "</style>\n",
       "<table border=\"1\" class=\"dataframe\">\n",
       "  <thead>\n",
       "    <tr style=\"text-align: right;\">\n",
       "      <th></th>\n",
       "      <th>0</th>\n",
       "    </tr>\n",
       "  </thead>\n",
       "  <tbody>\n",
       "    <tr>\n",
       "      <th>account length</th>\n",
       "      <td>0</td>\n",
       "    </tr>\n",
       "    <tr>\n",
       "      <th>international plan</th>\n",
       "      <td>0</td>\n",
       "    </tr>\n",
       "    <tr>\n",
       "      <th>voice mail plan</th>\n",
       "      <td>0</td>\n",
       "    </tr>\n",
       "    <tr>\n",
       "      <th>number vmail messages</th>\n",
       "      <td>0</td>\n",
       "    </tr>\n",
       "    <tr>\n",
       "      <th>total day minutes</th>\n",
       "      <td>0</td>\n",
       "    </tr>\n",
       "    <tr>\n",
       "      <th>total day calls</th>\n",
       "      <td>0</td>\n",
       "    </tr>\n",
       "    <tr>\n",
       "      <th>total day charge</th>\n",
       "      <td>0</td>\n",
       "    </tr>\n",
       "    <tr>\n",
       "      <th>total eve minutes</th>\n",
       "      <td>0</td>\n",
       "    </tr>\n",
       "    <tr>\n",
       "      <th>total eve calls</th>\n",
       "      <td>0</td>\n",
       "    </tr>\n",
       "    <tr>\n",
       "      <th>total eve charge</th>\n",
       "      <td>0</td>\n",
       "    </tr>\n",
       "    <tr>\n",
       "      <th>total night minutes</th>\n",
       "      <td>0</td>\n",
       "    </tr>\n",
       "    <tr>\n",
       "      <th>total night calls</th>\n",
       "      <td>0</td>\n",
       "    </tr>\n",
       "    <tr>\n",
       "      <th>total night charge</th>\n",
       "      <td>0</td>\n",
       "    </tr>\n",
       "    <tr>\n",
       "      <th>total intl minutes</th>\n",
       "      <td>0</td>\n",
       "    </tr>\n",
       "    <tr>\n",
       "      <th>total intl calls</th>\n",
       "      <td>0</td>\n",
       "    </tr>\n",
       "    <tr>\n",
       "      <th>total intl charge</th>\n",
       "      <td>0</td>\n",
       "    </tr>\n",
       "    <tr>\n",
       "      <th>number customer service calls</th>\n",
       "      <td>0</td>\n",
       "    </tr>\n",
       "    <tr>\n",
       "      <th>Churn</th>\n",
       "      <td>0</td>\n",
       "    </tr>\n",
       "  </tbody>\n",
       "</table>\n",
       "</div>"
      ],
      "text/plain": [
       "                               0\n",
       "account length                 0\n",
       "international plan             0\n",
       "voice mail plan                0\n",
       "number vmail messages          0\n",
       "total day minutes              0\n",
       "total day calls                0\n",
       "total day charge               0\n",
       "total eve minutes              0\n",
       "total eve calls                0\n",
       "total eve charge               0\n",
       "total night minutes            0\n",
       "total night calls              0\n",
       "total night charge             0\n",
       "total intl minutes             0\n",
       "total intl calls               0\n",
       "total intl charge              0\n",
       "number customer service calls  0\n",
       "Churn                          0"
      ]
     },
     "execution_count": 195,
     "metadata": {},
     "output_type": "execute_result"
    }
   ],
   "source": [
    "# Missing Value Analysis\n",
    "missing_val = pd.DataFrame(train_data.isnull().sum())\n",
    "missing_val"
   ]
  },
  {
   "cell_type": "code",
   "execution_count": 196,
   "metadata": {},
   "outputs": [],
   "source": [
    "# numeric Variable\n",
    "num_names=list(set(train_data.columns)-set(lis))"
   ]
  },
  {
   "cell_type": "code",
   "execution_count": 199,
   "metadata": {},
   "outputs": [
    {
     "data": {
      "text/plain": [
       "['number customer service calls',\n",
       " 'account length',\n",
       " 'total intl calls',\n",
       " 'total intl charge',\n",
       " 'total night calls',\n",
       " 'total intl minutes',\n",
       " 'number vmail messages',\n",
       " 'total night minutes',\n",
       " 'total eve minutes',\n",
       " 'total eve charge',\n",
       " 'total day calls',\n",
       " 'total day minutes',\n",
       " 'total day charge',\n",
       " 'total night charge',\n",
       " 'total eve calls']"
      ]
     },
     "execution_count": 199,
     "metadata": {},
     "output_type": "execute_result"
    }
   ],
   "source": [
    "num_names"
   ]
  },
  {
   "cell_type": "code",
   "execution_count": 200,
   "metadata": {},
   "outputs": [
    {
     "data": {
      "image/png": "[encoded data removed]",
      "text/plain": [
       "<Figure size 432x288 with 1 Axes>"
      ]
     },
     "metadata": {
      "needs_background": "light"
     },
     "output_type": "display_data"
    },
    {
     "data": {
      "image/png": "[encoded data removed]",
      "text/plain": [
       "<Figure size 432x288 with 1 Axes>"
      ]
     },
     "metadata": {
      "needs_background": "light"
     },
     "output_type": "display_data"
    },
    {
     "data": {
      "image/png": "[encoded data removed]",
      "text/plain": [
       "<Figure size 432x288 with 1 Axes>"
      ]
     },
     "metadata": {
      "needs_background": "light"
     },
     "output_type": "display_data"
    },
    {
     "data": {
      "image/png": "[encoded data removed]",
      "text/plain": [
       "<Figure size 432x288 with 1 Axes>"
      ]
     },
     "metadata": {
      "needs_background": "light"
     },
     "output_type": "display_data"
    },
    {
     "data": {
      "image/png": "[encoded data removed]",
      "text/plain": [
       "<Figure size 432x288 with 1 Axes>"
      ]
     },
     "metadata": {
      "needs_background": "light"
     },
     "output_type": "display_data"
    },
    {
     "data": {
      "image/png": "[encoded data removed]",
      "text/plain": [
       "<Figure size 432x288 with 1 Axes>"
      ]
     },
     "metadata": {
      "needs_background": "light"
     },
     "output_type": "display_data"
    },
    {
     "data": {
      "image/png": "[encoded data removed]",
      "text/plain": [
       "<Figure size 432x288 with 1 Axes>"
      ]
     },
     "metadata": {
      "needs_background": "light"
     },
     "output_type": "display_data"
    },
    {
     "data": {
      "image/png": "[encoded data removed]",
      "text/plain": [
       "<Figure size 432x288 with 1 Axes>"
      ]
     },
     "metadata": {
      "needs_background": "light"
     },
     "output_type": "display_data"
    },
    {
     "data": {
      "image/png": "[encoded data removed]",
      "text/plain": [
       "<Figure size 432x288 with 1 Axes>"
      ]
     },
     "metadata": {
      "needs_background": "light"
     },
     "output_type": "display_data"
    },
    {
     "data": {
      "image/png": "[encoded data removed]",
      "text/plain": [
       "<Figure size 432x288 with 1 Axes>"
      ]
     },
     "metadata": {
      "needs_background": "light"
     },
     "output_type": "display_data"
    },
    {
     "data": {
      "image/png": "[encoded data removed]",
      "text/plain": [
       "<Figure size 432x288 with 1 Axes>"
      ]
     },
     "metadata": {
      "needs_background": "light"
     },
     "output_type": "display_data"
    },
    {
     "data": {
      "image/png": "[encoded data removed]",
      "text/plain": [
       "<Figure size 432x288 with 1 Axes>"
      ]
     },
     "metadata": {
      "needs_background": "light"
     },
     "output_type": "display_data"
    },
    {
     "data": {
      "image/png": "[encoded data removed]",
      "text/plain": [
       "<Figure size 432x288 with 1 Axes>"
      ]
     },
     "metadata": {
      "needs_background": "light"
     },
     "output_type": "display_data"
    },
    {
     "data": {
      "image/png": "[encoded data removed]",
      "text/plain": [
       "<Figure size 432x288 with 1 Axes>"
      ]
     },
     "metadata": {
      "needs_background": "light"
     },
     "output_type": "display_data"
    },
    {
     "data": {
      "image/png": "[encoded data removed]",
      "text/plain": [
       "<Figure size 432x288 with 1 Axes>"
      ]
     },
     "metadata": {
      "needs_background": "light"
     },
     "output_type": "display_data"
    }
   ],
   "source": [
    "# Creating Box Plot for Outlier Analysis\n",
    "%matplotlib inline\n",
    "for i in num_names:\n",
    "    train_data.boxplot(column=i,flierprops=dict(marker='.', markerfacecolor='black', markersize=4))\n",
    "    plt.show()"
   ]
  },
  {
   "cell_type": "code",
   "execution_count": 201,
   "metadata": {},
   "outputs": [
    {
     "name": "stdout",
     "output_type": "stream",
     "text": [
      "number customer service calls\n",
      "-0.5\n",
      "3.5\n",
      "account length\n",
      "-8.0\n",
      "208.0\n",
      "total intl calls\n",
      "-1.5\n",
      "10.5\n",
      "total intl charge\n",
      "0.8899999999999992\n",
      "4.65\n",
      "total night calls\n",
      "48.0\n",
      "152.0\n",
      "total intl minutes\n",
      "3.25\n",
      "17.25\n",
      "number vmail messages\n",
      "-25.5\n",
      "42.5\n",
      "total night minutes\n",
      "65.20000000000003\n",
      "336.4\n",
      "total eve minutes\n",
      "64.78750000000001\n",
      "335.6875\n",
      "total eve charge\n",
      "5.5000000000000036\n",
      "28.539999999999996\n",
      "total day calls\n",
      "48.0\n",
      "152.0\n",
      "total day minutes\n",
      "34.94999999999999\n",
      "324.95\n",
      "total day charge\n",
      "5.949999999999999\n",
      "55.230000000000004\n",
      "total night charge\n",
      "2.9349999999999987\n",
      "15.135000000000002\n",
      "total eve calls\n",
      "46.5\n",
      "154.5\n"
     ]
    }
   ],
   "source": [
    "# Outlier Analysis\n",
    "for i in num_names:\n",
    "    print(i)\n",
    "    #Extract Quartiles\n",
    "    q75,q25=np.percentile(train_data.loc[:,i],[ 75,25])\n",
    "    \n",
    "    #Calculate IQR\n",
    "    iqr = q75-q25\n",
    "    \n",
    "    #Calculating Minimum and Maximum values or Inner and Outer fence\n",
    "    min = q25 - (iqr*1.5)\n",
    "    max = q75 + (iqr*1.5)\n",
    "    print(min)\n",
    "    print(max)\n",
    "    \n",
    "    #Replacing Outliers with NA\n",
    "    train_data.loc[train_data[i] < min,i] = np.nan\n",
    "    train_data.loc[train_data[i] > max,i] = np.nan\n"
   ]
  },
  {
   "cell_type": "code",
   "execution_count": 202,
   "metadata": {},
   "outputs": [],
   "source": [
    "# Checking Missing Values in Data Frame after outlier Analysis\n",
    "missing_val = pd.DataFrame(train_data.isnull().sum())"
   ]
  },
  {
   "cell_type": "code",
   "execution_count": 203,
   "metadata": {},
   "outputs": [
    {
     "data": {
      "text/html": [
       "<div>\n",
       "<style scoped>\n",
       "    .dataframe tbody tr th:only-of-type {\n",
       "        vertical-align: middle;\n",
       "    }\n",
       "\n",
       "    .dataframe tbody tr th {\n",
       "        vertical-align: top;\n",
       "    }\n",
       "\n",
       "    .dataframe thead th {\n",
       "        text-align: right;\n",
       "    }\n",
       "</style>\n",
       "<table border=\"1\" class=\"dataframe\">\n",
       "  <thead>\n",
       "    <tr style=\"text-align: right;\">\n",
       "      <th></th>\n",
       "      <th>0</th>\n",
       "    </tr>\n",
       "  </thead>\n",
       "  <tbody>\n",
       "    <tr>\n",
       "      <th>account length</th>\n",
       "      <td>24</td>\n",
       "    </tr>\n",
       "    <tr>\n",
       "      <th>international plan</th>\n",
       "      <td>0</td>\n",
       "    </tr>\n",
       "    <tr>\n",
       "      <th>voice mail plan</th>\n",
       "      <td>0</td>\n",
       "    </tr>\n",
       "    <tr>\n",
       "      <th>number vmail messages</th>\n",
       "      <td>60</td>\n",
       "    </tr>\n",
       "    <tr>\n",
       "      <th>total day minutes</th>\n",
       "      <td>34</td>\n",
       "    </tr>\n",
       "    <tr>\n",
       "      <th>total day calls</th>\n",
       "      <td>35</td>\n",
       "    </tr>\n",
       "    <tr>\n",
       "      <th>total day charge</th>\n",
       "      <td>34</td>\n",
       "    </tr>\n",
       "    <tr>\n",
       "      <th>total eve minutes</th>\n",
       "      <td>43</td>\n",
       "    </tr>\n",
       "    <tr>\n",
       "      <th>total eve calls</th>\n",
       "      <td>27</td>\n",
       "    </tr>\n",
       "    <tr>\n",
       "      <th>total eve charge</th>\n",
       "      <td>42</td>\n",
       "    </tr>\n",
       "    <tr>\n",
       "      <th>total night minutes</th>\n",
       "      <td>39</td>\n",
       "    </tr>\n",
       "    <tr>\n",
       "      <th>total night calls</th>\n",
       "      <td>43</td>\n",
       "    </tr>\n",
       "    <tr>\n",
       "      <th>total night charge</th>\n",
       "      <td>39</td>\n",
       "    </tr>\n",
       "    <tr>\n",
       "      <th>total intl minutes</th>\n",
       "      <td>72</td>\n",
       "    </tr>\n",
       "    <tr>\n",
       "      <th>total intl calls</th>\n",
       "      <td>118</td>\n",
       "    </tr>\n",
       "    <tr>\n",
       "      <th>total intl charge</th>\n",
       "      <td>72</td>\n",
       "    </tr>\n",
       "    <tr>\n",
       "      <th>number customer service calls</th>\n",
       "      <td>399</td>\n",
       "    </tr>\n",
       "    <tr>\n",
       "      <th>Churn</th>\n",
       "      <td>0</td>\n",
       "    </tr>\n",
       "  </tbody>\n",
       "</table>\n",
       "</div>"
      ],
      "text/plain": [
       "                                 0\n",
       "account length                  24\n",
       "international plan               0\n",
       "voice mail plan                  0\n",
       "number vmail messages           60\n",
       "total day minutes               34\n",
       "total day calls                 35\n",
       "total day charge                34\n",
       "total eve minutes               43\n",
       "total eve calls                 27\n",
       "total eve charge                42\n",
       "total night minutes             39\n",
       "total night calls               43\n",
       "total night charge              39\n",
       "total intl minutes              72\n",
       "total intl calls               118\n",
       "total intl charge               72\n",
       "number customer service calls  399\n",
       "Churn                            0"
      ]
     },
     "execution_count": 203,
     "metadata": {},
     "output_type": "execute_result"
    }
   ],
   "source": [
    "missing_val"
   ]
  },
  {
   "cell_type": "code",
   "execution_count": 204,
   "metadata": {},
   "outputs": [
    {
     "name": "stdout",
     "output_type": "stream",
     "text": [
      "Imputing row 1/5000 with 0 missing, elapsed time: 10.970\n",
      "Imputing row 101/5000 with 1 missing, elapsed time: 10.973\n",
      "Imputing row 201/5000 with 0 missing, elapsed time: 10.976\n",
      "Imputing row 301/5000 with 0 missing, elapsed time: 10.979\n",
      "Imputing row 401/5000 with 0 missing, elapsed time: 10.981\n",
      "Imputing row 501/5000 with 0 missing, elapsed time: 10.982\n",
      "Imputing row 601/5000 with 0 missing, elapsed time: 10.984\n",
      "Imputing row 701/5000 with 0 missing, elapsed time: 10.986\n",
      "Imputing row 801/5000 with 0 missing, elapsed time: 10.987\n",
      "Imputing row 901/5000 with 0 missing, elapsed time: 10.989\n",
      "Imputing row 1001/5000 with 0 missing, elapsed time: 10.992\n",
      "Imputing row 1101/5000 with 0 missing, elapsed time: 10.995\n",
      "Imputing row 1201/5000 with 1 missing, elapsed time: 10.998\n",
      "Imputing row 1301/5000 with 0 missing, elapsed time: 11.001\n",
      "Imputing row 1401/5000 with 2 missing, elapsed time: 11.004\n",
      "Imputing row 1501/5000 with 0 missing, elapsed time: 11.006\n",
      "Imputing row 1601/5000 with 0 missing, elapsed time: 11.009\n",
      "Imputing row 1701/5000 with 0 missing, elapsed time: 11.011\n",
      "Imputing row 1801/5000 with 0 missing, elapsed time: 11.014\n",
      "Imputing row 1901/5000 with 0 missing, elapsed time: 11.016\n",
      "Imputing row 2001/5000 with 0 missing, elapsed time: 11.018\n",
      "Imputing row 2101/5000 with 0 missing, elapsed time: 11.020\n",
      "Imputing row 2201/5000 with 0 missing, elapsed time: 11.023\n",
      "Imputing row 2301/5000 with 0 missing, elapsed time: 11.025\n",
      "Imputing row 2401/5000 with 0 missing, elapsed time: 11.028\n",
      "Imputing row 2501/5000 with 0 missing, elapsed time: 11.031\n",
      "Imputing row 2601/5000 with 0 missing, elapsed time: 11.033\n",
      "Imputing row 2701/5000 with 1 missing, elapsed time: 11.036\n",
      "Imputing row 2801/5000 with 0 missing, elapsed time: 11.039\n",
      "Imputing row 2901/5000 with 0 missing, elapsed time: 11.041\n",
      "Imputing row 3001/5000 with 0 missing, elapsed time: 11.044\n",
      "Imputing row 3101/5000 with 0 missing, elapsed time: 11.048\n",
      "Imputing row 3201/5000 with 0 missing, elapsed time: 11.051\n",
      "Imputing row 3301/5000 with 0 missing, elapsed time: 11.054\n",
      "Imputing row 3401/5000 with 2 missing, elapsed time: 11.057\n",
      "Imputing row 3501/5000 with 0 missing, elapsed time: 11.060\n",
      "Imputing row 3601/5000 with 0 missing, elapsed time: 11.063\n",
      "Imputing row 3701/5000 with 1 missing, elapsed time: 11.064\n",
      "Imputing row 3801/5000 with 2 missing, elapsed time: 11.066\n",
      "Imputing row 3901/5000 with 0 missing, elapsed time: 11.069\n",
      "Imputing row 4001/5000 with 0 missing, elapsed time: 11.073\n",
      "Imputing row 4101/5000 with 0 missing, elapsed time: 11.075\n",
      "Imputing row 4201/5000 with 0 missing, elapsed time: 11.078\n",
      "Imputing row 4301/5000 with 0 missing, elapsed time: 11.081\n",
      "Imputing row 4401/5000 with 0 missing, elapsed time: 11.085\n",
      "Imputing row 4501/5000 with 0 missing, elapsed time: 11.088\n",
      "Imputing row 4601/5000 with 0 missing, elapsed time: 11.091\n",
      "Imputing row 4701/5000 with 1 missing, elapsed time: 11.094\n",
      "Imputing row 4801/5000 with 0 missing, elapsed time: 11.097\n",
      "Imputing row 4901/5000 with 0 missing, elapsed time: 11.099\n"
     ]
    }
   ],
   "source": [
    "# Imputing missing values in dataframe using KNN-imputation\n",
    "train_data= pd.DataFrame(KNN(k =5).complete(train_data), columns = train_data.columns)"
   ]
  },
  {
   "cell_type": "code",
   "execution_count": 205,
   "metadata": {},
   "outputs": [],
   "source": [
    "missing_val_1 = pd.DataFrame(train_data.isnull().sum())"
   ]
  },
  {
   "cell_type": "code",
   "execution_count": 206,
   "metadata": {},
   "outputs": [
    {
     "data": {
      "text/html": [
       "<div>\n",
       "<style scoped>\n",
       "    .dataframe tbody tr th:only-of-type {\n",
       "        vertical-align: middle;\n",
       "    }\n",
       "\n",
       "    .dataframe tbody tr th {\n",
       "        vertical-align: top;\n",
       "    }\n",
       "\n",
       "    .dataframe thead th {\n",
       "        text-align: right;\n",
       "    }\n",
       "</style>\n",
       "<table border=\"1\" class=\"dataframe\">\n",
       "  <thead>\n",
       "    <tr style=\"text-align: right;\">\n",
       "      <th></th>\n",
       "      <th>0</th>\n",
       "    </tr>\n",
       "  </thead>\n",
       "  <tbody>\n",
       "    <tr>\n",
       "      <th>account length</th>\n",
       "      <td>0</td>\n",
       "    </tr>\n",
       "    <tr>\n",
       "      <th>international plan</th>\n",
       "      <td>0</td>\n",
       "    </tr>\n",
       "    <tr>\n",
       "      <th>voice mail plan</th>\n",
       "      <td>0</td>\n",
       "    </tr>\n",
       "    <tr>\n",
       "      <th>number vmail messages</th>\n",
       "      <td>0</td>\n",
       "    </tr>\n",
       "    <tr>\n",
       "      <th>total day minutes</th>\n",
       "      <td>0</td>\n",
       "    </tr>\n",
       "    <tr>\n",
       "      <th>total day calls</th>\n",
       "      <td>0</td>\n",
       "    </tr>\n",
       "    <tr>\n",
       "      <th>total day charge</th>\n",
       "      <td>0</td>\n",
       "    </tr>\n",
       "    <tr>\n",
       "      <th>total eve minutes</th>\n",
       "      <td>0</td>\n",
       "    </tr>\n",
       "    <tr>\n",
       "      <th>total eve calls</th>\n",
       "      <td>0</td>\n",
       "    </tr>\n",
       "    <tr>\n",
       "      <th>total eve charge</th>\n",
       "      <td>0</td>\n",
       "    </tr>\n",
       "    <tr>\n",
       "      <th>total night minutes</th>\n",
       "      <td>0</td>\n",
       "    </tr>\n",
       "    <tr>\n",
       "      <th>total night calls</th>\n",
       "      <td>0</td>\n",
       "    </tr>\n",
       "    <tr>\n",
       "      <th>total night charge</th>\n",
       "      <td>0</td>\n",
       "    </tr>\n",
       "    <tr>\n",
       "      <th>total intl minutes</th>\n",
       "      <td>0</td>\n",
       "    </tr>\n",
       "    <tr>\n",
       "      <th>total intl calls</th>\n",
       "      <td>0</td>\n",
       "    </tr>\n",
       "    <tr>\n",
       "      <th>total intl charge</th>\n",
       "      <td>0</td>\n",
       "    </tr>\n",
       "    <tr>\n",
       "      <th>number customer service calls</th>\n",
       "      <td>0</td>\n",
       "    </tr>\n",
       "    <tr>\n",
       "      <th>Churn</th>\n",
       "      <td>0</td>\n",
       "    </tr>\n",
       "  </tbody>\n",
       "</table>\n",
       "</div>"
      ],
      "text/plain": [
       "                               0\n",
       "account length                 0\n",
       "international plan             0\n",
       "voice mail plan                0\n",
       "number vmail messages          0\n",
       "total day minutes              0\n",
       "total day calls                0\n",
       "total day charge               0\n",
       "total eve minutes              0\n",
       "total eve calls                0\n",
       "total eve charge               0\n",
       "total night minutes            0\n",
       "total night calls              0\n",
       "total night charge             0\n",
       "total intl minutes             0\n",
       "total intl calls               0\n",
       "total intl charge              0\n",
       "number customer service calls  0\n",
       "Churn                          0"
      ]
     },
     "execution_count": 206,
     "metadata": {},
     "output_type": "execute_result"
    }
   ],
   "source": [
    "missing_val_1"
   ]
  },
  {
   "cell_type": "code",
   "execution_count": 207,
   "metadata": {},
   "outputs": [],
   "source": [
    "# Correlation Analysis(feature selection)\n",
    "train_data_corr=train_data.loc[:,num_names]"
   ]
  },
  {
   "cell_type": "code",
   "execution_count": 209,
   "metadata": {},
   "outputs": [
    {
     "data": {
      "text/plain": [
       "<matplotlib.axes._subplots.AxesSubplot at 0x256ceb264e0>"
      ]
     },
     "execution_count": 209,
     "metadata": {},
     "output_type": "execute_result"
    },
    {
     "data": {
      "image/png": "[encoded data removed]",
      "text/plain": [
       "<Figure size 648x360 with 2 Axes>"
      ]
     },
     "metadata": {
      "needs_background": "light"
     },
     "output_type": "display_data"
    }
   ],
   "source": [
    "#Set the width and hieght of the plot\n",
    "f, ax = plt.subplots(figsize=(9, 5))\n",
    "\n",
    "#Generate correlation matrix\n",
    "corr = train_data_corr.corr()\n",
    "\n",
    "#Plot using seaborn library\n",
    "sns.heatmap(corr, mask=np.zeros_like(corr, dtype=np.bool), cmap=sns.diverging_palette(220, 10, as_cmap=True),\n",
    "            square=True, ax=ax)\n",
    "\n",
    "#plt.savefig('plot.png')"
   ]
  },
  {
   "cell_type": "code",
   "execution_count": 210,
   "metadata": {},
   "outputs": [
    {
     "name": "stdout",
     "output_type": "stream",
     "text": [
      "international plan\n",
      "1.9443947474998577e-74\n",
      "voice mail plan\n",
      "7.164501780988496e-15\n"
     ]
    }
   ],
   "source": [
    "#Chi-square test for Categorical Variable\n",
    "lis.remove('Churn')\n",
    "for i in lis:\n",
    "    print(i)\n",
    "    chi2,p,dof,ex = chi2_contingency(pd.crosstab(train_data['Churn'], train_data[i]))\n",
    "    print(p)"
   ]
  },
  {
   "cell_type": "markdown",
   "metadata": {},
   "source": [
    "# Feature Scaling"
   ]
  },
  {
   "cell_type": "code",
   "execution_count": 213,
   "metadata": {},
   "outputs": [
    {
     "data": {
      "text/plain": [
       "(array([ 11.,  16.,  25.,  30.,  39.,  54.,  72.,  89., 108., 148., 166.,\n",
       "        192., 242., 262., 288., 280., 307., 310., 303., 312., 263., 273.,\n",
       "        238., 184., 183., 135., 101.,  95.,  91.,  58.,  47.,  29.,  23.,\n",
       "         14.,  12.]),\n",
       " array([ 35.1       ,  43.37428571,  51.64857143,  59.92285714,\n",
       "         68.19714286,  76.47142857,  84.74571429,  93.02      ,\n",
       "        101.29428571, 109.56857143, 117.84285714, 126.11714286,\n",
       "        134.39142857, 142.66571429, 150.94      , 159.21428571,\n",
       "        167.48857143, 175.76285714, 184.03714286, 192.31142857,\n",
       "        200.58571429, 208.86      , 217.13428571, 225.40857143,\n",
       "        233.68285714, 241.95714286, 250.23142857, 258.50571429,\n",
       "        266.78      , 275.05428571, 283.32857143, 291.60285714,\n",
       "        299.87714286, 308.15142857, 316.42571429, 324.7       ]),\n",
       " <a list of 35 Patch objects>)"
      ]
     },
     "execution_count": 213,
     "metadata": {},
     "output_type": "execute_result"
    },
    {
     "data": {
      "image/png": "[encoded data removed]",
      "text/plain": [
       "<Figure size 432x288 with 1 Axes>"
      ]
     },
     "metadata": {
      "needs_background": "light"
     },
     "output_type": "display_data"
    }
   ],
   "source": [
    "#Normality check\n",
    "%matplotlib inline \n",
    "plt.hist(train_data[\"total day minutes\"], bins='auto')\n",
    "# After separate checking all the num_names variables it is found that they all are normally distributed"
   ]
  },
  {
   "cell_type": "code",
   "execution_count": 214,
   "metadata": {},
   "outputs": [
    {
     "name": "stdout",
     "output_type": "stream",
     "text": [
      "number customer service calls\n",
      "account length\n",
      "total intl calls\n",
      "total intl charge\n",
      "total night calls\n",
      "total intl minutes\n",
      "number vmail messages\n",
      "total night minutes\n",
      "total eve minutes\n",
      "total eve charge\n",
      "total day calls\n",
      "total day minutes\n",
      "total day charge\n",
      "total night charge\n",
      "total eve calls\n"
     ]
    }
   ],
   "source": [
    "#Standarisation\n",
    "for i in num_names:\n",
    "    print(i)\n",
    "    train_data[i] = (train_data[i] - train_data[i].mean())/train_data[i].std()"
   ]
  },
  {
   "cell_type": "code",
   "execution_count": 215,
   "metadata": {},
   "outputs": [],
   "source": [
    "## Drop Variables which are dependent on other variables\n",
    "train_data = train_data.drop(['total day charge', 'total eve charge','total night charge','total intl charge'],axis=1)"
   ]
  },
  {
   "cell_type": "code",
   "execution_count": 216,
   "metadata": {},
   "outputs": [
    {
     "data": {
      "text/plain": [
       "Index(['account length', 'international plan', 'voice mail plan',\n",
       "       'number vmail messages', 'total day minutes', 'total day calls',\n",
       "       'total eve minutes', 'total eve calls', 'total night minutes',\n",
       "       'total night calls', 'total intl minutes', 'total intl calls',\n",
       "       'number customer service calls', 'Churn'],\n",
       "      dtype='object')"
      ]
     },
     "execution_count": 216,
     "metadata": {},
     "output_type": "execute_result"
    }
   ],
   "source": [
    "train_data.columns"
   ]
  },
  {
   "cell_type": "code",
   "execution_count": 217,
   "metadata": {},
   "outputs": [],
   "source": [
    "#Separating dataset into train and test\n",
    "\n",
    "train=train_data.iloc[0:3333,:]\n",
    "test=train_data.iloc[3333:5000,:]\n",
    "test= test.reset_index(drop=True)"
   ]
  },
  {
   "cell_type": "code",
   "execution_count": 218,
   "metadata": {},
   "outputs": [],
   "source": [
    "train_1=train.copy()\n",
    "\n",
    "test_1=test.copy()"
   ]
  },
  {
   "cell_type": "code",
   "execution_count": 223,
   "metadata": {},
   "outputs": [
    {
     "data": {
      "text/plain": [
       "(3333, 14)"
      ]
     },
     "execution_count": 223,
     "metadata": {},
     "output_type": "execute_result"
    }
   ],
   "source": [
    "train_1.shape"
   ]
  },
  {
   "cell_type": "code",
   "execution_count": 224,
   "metadata": {},
   "outputs": [
    {
     "data": {
      "text/plain": [
       "(1667, 14)"
      ]
     },
     "execution_count": 224,
     "metadata": {},
     "output_type": "execute_result"
    }
   ],
   "source": [
    "test_1.shape"
   ]
  },
  {
   "cell_type": "code",
   "execution_count": 225,
   "metadata": {},
   "outputs": [
    {
     "data": {
      "text/plain": [
       "(3333, 14)"
      ]
     },
     "execution_count": 225,
     "metadata": {},
     "output_type": "execute_result"
    }
   ],
   "source": [
    "train.shape"
   ]
  },
  {
   "cell_type": "code",
   "execution_count": 226,
   "metadata": {},
   "outputs": [
    {
     "data": {
      "text/plain": [
       "(1667, 14)"
      ]
     },
     "execution_count": 226,
     "metadata": {},
     "output_type": "execute_result"
    }
   ],
   "source": [
    "test.shape"
   ]
  },
  {
   "cell_type": "code",
   "execution_count": 227,
   "metadata": {},
   "outputs": [],
   "source": [
    "# Decision Tree Model \n",
    "from sklearn import tree\n",
    "from sklearn.metrics import accuracy_score\n",
    "from sklearn.metrics import confusion_matrix\n"
   ]
  },
  {
   "cell_type": "code",
   "execution_count": 228,
   "metadata": {},
   "outputs": [],
   "source": [
    "# Decision tree Model\n",
    "C50_model = tree.DecisionTreeClassifier(criterion='entropy').fit(train.values[:,0:13],train.values[:,13])"
   ]
  },
  {
   "cell_type": "code",
   "execution_count": 229,
   "metadata": {},
   "outputs": [],
   "source": [
    "C50_Predictions = C50_model.predict(test.values[:,0:13])"
   ]
  },
  {
   "cell_type": "code",
   "execution_count": 237,
   "metadata": {},
   "outputs": [],
   "source": [
    "# Evaluating the Decision Tree Model\n",
    "ConfMat_C50 = pd.crosstab(test.values[:,13],C50_Predictions)\n",
    "TN = ConfMat_C50.iloc[0,0]\n",
    "FN = ConfMat_C50.iloc[1,0]\n",
    "TP = ConfMat_C50.iloc[1,1]\n",
    "FP = ConfMat_C50.iloc[0,1]\n",
    "\n",
    "Accuracy_C50 = ((TP+TN)*100)/(TP+TN+FP+FN)\n",
    "FNR_C50 = (FN*100)/(FN+TP)\n",
    "\n",
    "\n",
    "#Accuracy: 88.90\n",
    "#FNR: 37.94"
   ]
  },
  {
   "cell_type": "code",
   "execution_count": 238,
   "metadata": {},
   "outputs": [
    {
     "data": {
      "text/html": [
       "<div>\n",
       "<style scoped>\n",
       "    .dataframe tbody tr th:only-of-type {\n",
       "        vertical-align: middle;\n",
       "    }\n",
       "\n",
       "    .dataframe tbody tr th {\n",
       "        vertical-align: top;\n",
       "    }\n",
       "\n",
       "    .dataframe thead th {\n",
       "        text-align: right;\n",
       "    }\n",
       "</style>\n",
       "<table border=\"1\" class=\"dataframe\">\n",
       "  <thead>\n",
       "    <tr style=\"text-align: right;\">\n",
       "      <th>col_0</th>\n",
       "      <th>0.0</th>\n",
       "      <th>1.0</th>\n",
       "    </tr>\n",
       "    <tr>\n",
       "      <th>row_0</th>\n",
       "      <th></th>\n",
       "      <th></th>\n",
       "    </tr>\n",
       "  </thead>\n",
       "  <tbody>\n",
       "    <tr>\n",
       "      <th>0.0</th>\n",
       "      <td>1343</td>\n",
       "      <td>100</td>\n",
       "    </tr>\n",
       "    <tr>\n",
       "      <th>1.0</th>\n",
       "      <td>85</td>\n",
       "      <td>139</td>\n",
       "    </tr>\n",
       "  </tbody>\n",
       "</table>\n",
       "</div>"
      ],
      "text/plain": [
       "col_0   0.0  1.0\n",
       "row_0           \n",
       "0.0    1343  100\n",
       "1.0      85  139"
      ]
     },
     "execution_count": 238,
     "metadata": {},
     "output_type": "execute_result"
    }
   ],
   "source": [
    "ConfMat_C50"
   ]
  },
  {
   "cell_type": "code",
   "execution_count": 239,
   "metadata": {},
   "outputs": [
    {
     "data": {
      "text/plain": [
       "88.90221955608878"
      ]
     },
     "execution_count": 239,
     "metadata": {},
     "output_type": "execute_result"
    }
   ],
   "source": [
    "Accuracy_C50"
   ]
  },
  {
   "cell_type": "code",
   "execution_count": 240,
   "metadata": {},
   "outputs": [
    {
     "data": {
      "text/plain": [
       "37.94642857142857"
      ]
     },
     "execution_count": 240,
     "metadata": {},
     "output_type": "execute_result"
    }
   ],
   "source": [
    "FNR_C50"
   ]
  },
  {
   "cell_type": "code",
   "execution_count": 252,
   "metadata": {},
   "outputs": [],
   "source": [
    "train=train_1.copy()"
   ]
  },
  {
   "cell_type": "code",
   "execution_count": 242,
   "metadata": {},
   "outputs": [],
   "source": [
    "#Random Forest Model\n",
    "\n",
    "from sklearn.ensemble import RandomForestClassifier\n",
    "RF_model = RandomForestClassifier(n_estimators = 400).fit(train.values[:,0:13], train.values[:,13])"
   ]
  },
  {
   "cell_type": "code",
   "execution_count": 243,
   "metadata": {},
   "outputs": [],
   "source": [
    "RF_Predictions = RF_model.predict(test.values[:,0:13])"
   ]
  },
  {
   "cell_type": "code",
   "execution_count": 249,
   "metadata": {},
   "outputs": [],
   "source": [
    "# Evaluating the Random Forest Model\n",
    "ConfMat_RF = pd.crosstab(test.values[:,13],RF_Predictions)\n",
    "\n",
    "TN = ConfMat_RF.iloc[0,0]\n",
    "FN = ConfMat_RF.iloc[1,0]\n",
    "TP = ConfMat_RF.iloc[1,1]\n",
    "FP = ConfMat_RF.iloc[0,1]\n",
    "\n",
    "Accuracy_RF = ((TP+TN)*100)/(TP+TN+FP+FN)\n",
    "FNR_RF = (FN*100)/(FN+TP)\n",
    "\n",
    "#Accuracy 93.44\n",
    "#FNR 48.66"
   ]
  },
  {
   "cell_type": "code",
   "execution_count": 250,
   "metadata": {},
   "outputs": [
    {
     "data": {
      "text/plain": [
       "93.4613077384523"
      ]
     },
     "execution_count": 250,
     "metadata": {},
     "output_type": "execute_result"
    }
   ],
   "source": [
    "Accuracy_RF"
   ]
  },
  {
   "cell_type": "code",
   "execution_count": 248,
   "metadata": {},
   "outputs": [
    {
     "data": {
      "text/plain": [
       "48.660714285714285"
      ]
     },
     "execution_count": 248,
     "metadata": {},
     "output_type": "execute_result"
    }
   ],
   "source": [
    "FNR_RF"
   ]
  },
  {
   "cell_type": "code",
   "execution_count": 251,
   "metadata": {},
   "outputs": [],
   "source": [
    "train=train_1.copy()"
   ]
  },
  {
   "cell_type": "code",
   "execution_count": 253,
   "metadata": {},
   "outputs": [],
   "source": [
    "#Naive Bayes\n",
    "from sklearn.naive_bayes import GaussianNB\n",
    "\n",
    "#Naive Bayes implementation\n",
    "NB_model = GaussianNB().fit(train.values[:,0:13], train.values[:,13])"
   ]
  },
  {
   "cell_type": "code",
   "execution_count": 254,
   "metadata": {},
   "outputs": [],
   "source": [
    "NB_Predictions = NB_model.predict(test.values[:,0:13])"
   ]
  },
  {
   "cell_type": "code",
   "execution_count": 255,
   "metadata": {},
   "outputs": [],
   "source": [
    "# Evaluating the Naive Bayes Model\n",
    "\n",
    "ConfMat_NB=pd.crosstab(test.values[:,13],NB_Predictions)\n",
    "\n",
    "TN = ConfMat_NB.iloc[0,0]\n",
    "FN = ConfMat_NB.iloc[1,0]\n",
    "TP = ConfMat_NB.iloc[1,1]\n",
    "FP = ConfMat_NB.iloc[0,1]\n",
    "\n",
    "Accuracy_NB = ((TP+TN)*100)/(TP+TN+FP+FN)\n",
    "FNR_NB = (FN*100)/(FN+TP)\n",
    "\n",
    "##Accuracy = 85.90\n",
    "## FNR = 67.85\n"
   ]
  },
  {
   "cell_type": "code",
   "execution_count": 256,
   "metadata": {},
   "outputs": [
    {
     "data": {
      "text/plain": [
       "85.90281943611278"
      ]
     },
     "execution_count": 256,
     "metadata": {},
     "output_type": "execute_result"
    }
   ],
   "source": [
    "Accuracy_NB"
   ]
  },
  {
   "cell_type": "code",
   "execution_count": 257,
   "metadata": {},
   "outputs": [
    {
     "data": {
      "text/plain": [
       "67.85714285714286"
      ]
     },
     "execution_count": 257,
     "metadata": {},
     "output_type": "execute_result"
    }
   ],
   "source": [
    "FNR_NB"
   ]
  },
  {
   "cell_type": "code",
   "execution_count": 279,
   "metadata": {},
   "outputs": [],
   "source": [
    "train_data_1=train_data.copy()"
   ]
  },
  {
   "cell_type": "code",
   "execution_count": 282,
   "metadata": {},
   "outputs": [
    {
     "name": "stdout",
     "output_type": "stream",
     "text": [
      "<class 'pandas.core.frame.DataFrame'>\n",
      "RangeIndex: 5000 entries, 0 to 4999\n",
      "Data columns (total 14 columns):\n",
      "account length                   5000 non-null float64\n",
      "international plan               5000 non-null float64\n",
      "voice mail plan                  5000 non-null float64\n",
      "number vmail messages            5000 non-null float64\n",
      "total day minutes                5000 non-null float64\n",
      "total day calls                  5000 non-null float64\n",
      "total eve minutes                5000 non-null float64\n",
      "total eve calls                  5000 non-null float64\n",
      "total night minutes              5000 non-null float64\n",
      "total night calls                5000 non-null float64\n",
      "total intl minutes               5000 non-null float64\n",
      "total intl calls                 5000 non-null float64\n",
      "number customer service calls    5000 non-null float64\n",
      "Churn                            5000 non-null float64\n",
      "dtypes: float64(14)\n",
      "memory usage: 547.0 KB\n"
     ]
    }
   ],
   "source": [
    "train_data_1.info()"
   ]
  },
  {
   "cell_type": "code",
   "execution_count": 283,
   "metadata": {},
   "outputs": [],
   "source": [
    "train_data_1['Churn'] = train_data_1['Churn'].astype('object')\n",
    "train_data_1['international plan'] =train_data_1['international plan'].astype('object')\n",
    "train_data_1['voice mail plan'] = train_data_1['voice mail plan'].astype('object')"
   ]
  },
  {
   "cell_type": "code",
   "execution_count": 284,
   "metadata": {},
   "outputs": [
    {
     "name": "stdout",
     "output_type": "stream",
     "text": [
      "<class 'pandas.core.frame.DataFrame'>\n",
      "RangeIndex: 5000 entries, 0 to 4999\n",
      "Data columns (total 14 columns):\n",
      "account length                   5000 non-null float64\n",
      "international plan               5000 non-null object\n",
      "voice mail plan                  5000 non-null object\n",
      "number vmail messages            5000 non-null float64\n",
      "total day minutes                5000 non-null float64\n",
      "total day calls                  5000 non-null float64\n",
      "total eve minutes                5000 non-null float64\n",
      "total eve calls                  5000 non-null float64\n",
      "total night minutes              5000 non-null float64\n",
      "total night calls                5000 non-null float64\n",
      "total intl minutes               5000 non-null float64\n",
      "total intl calls                 5000 non-null float64\n",
      "number customer service calls    5000 non-null float64\n",
      "Churn                            5000 non-null object\n",
      "dtypes: float64(11), object(3)\n",
      "memory usage: 547.0+ KB\n"
     ]
    }
   ],
   "source": [
    "train_data_1.info()"
   ]
  },
  {
   "cell_type": "code",
   "execution_count": 287,
   "metadata": {},
   "outputs": [],
   "source": [
    "# Preparing data for Logistic Regression Model\n",
    "\n",
    "logit_reg_model = pd.DataFrame(train_data_1['Churn'])"
   ]
  },
  {
   "cell_type": "code",
   "execution_count": 288,
   "metadata": {},
   "outputs": [],
   "source": [
    "# Create the list of numeric Variable for logistic regression\n",
    "logit_num_names=['number customer service calls','account length','total intl calls','total night calls','total intl minutes',\\\n",
    " 'number vmail messages','total night minutes','total eve minutes','total day calls','total day minutes','total eve calls']"
   ]
  },
  {
   "cell_type": "code",
   "execution_count": 289,
   "metadata": {},
   "outputs": [],
   "source": [
    "#Add continous variables\n",
    "logit_reg_model = logit_reg_model.join(train_data_1[logit_num_names])"
   ]
  },
  {
   "cell_type": "code",
   "execution_count": 290,
   "metadata": {},
   "outputs": [],
   "source": [
    "# Creating dummies for categorical variables\n",
    "for i in lis:\n",
    "    temp = pd.get_dummies(train_data_1[i], prefix = i)\n",
    "    logit_reg_model = logit_reg_model.join(temp)"
   ]
  },
  {
   "cell_type": "code",
   "execution_count": 291,
   "metadata": {},
   "outputs": [
    {
     "data": {
      "text/html": [
       "<div>\n",
       "<style scoped>\n",
       "    .dataframe tbody tr th:only-of-type {\n",
       "        vertical-align: middle;\n",
       "    }\n",
       "\n",
       "    .dataframe tbody tr th {\n",
       "        vertical-align: top;\n",
       "    }\n",
       "\n",
       "    .dataframe thead th {\n",
       "        text-align: right;\n",
       "    }\n",
       "</style>\n",
       "<table border=\"1\" class=\"dataframe\">\n",
       "  <thead>\n",
       "    <tr style=\"text-align: right;\">\n",
       "      <th></th>\n",
       "      <th>Churn</th>\n",
       "      <th>number customer service calls</th>\n",
       "      <th>account length</th>\n",
       "      <th>total intl calls</th>\n",
       "      <th>total night calls</th>\n",
       "      <th>total intl minutes</th>\n",
       "      <th>number vmail messages</th>\n",
       "      <th>total night minutes</th>\n",
       "      <th>total eve minutes</th>\n",
       "      <th>total day calls</th>\n",
       "      <th>total day minutes</th>\n",
       "      <th>total eve calls</th>\n",
       "      <th>international plan_0.0</th>\n",
       "      <th>international plan_1.0</th>\n",
       "      <th>voice mail plan_0.0</th>\n",
       "      <th>voice mail plan_1.0</th>\n",
       "    </tr>\n",
       "  </thead>\n",
       "  <tbody>\n",
       "    <tr>\n",
       "      <th>0</th>\n",
       "      <td>0</td>\n",
       "      <td>-0.329755</td>\n",
       "      <td>0.729694</td>\n",
       "      <td>-0.597610</td>\n",
       "      <td>-0.461297</td>\n",
       "      <td>-0.116305</td>\n",
       "      <td>1.369483</td>\n",
       "      <td>0.910223</td>\n",
       "      <td>-0.066010</td>\n",
       "      <td>0.511278</td>\n",
       "      <td>1.620077</td>\n",
       "      <td>-0.064576</td>\n",
       "      <td>1</td>\n",
       "      <td>0</td>\n",
       "      <td>0</td>\n",
       "      <td>1</td>\n",
       "    </tr>\n",
       "    <tr>\n",
       "      <th>1</th>\n",
       "      <td>0</td>\n",
       "      <td>-0.329755</td>\n",
       "      <td>0.188726</td>\n",
       "      <td>-0.597610</td>\n",
       "      <td>0.165109</td>\n",
       "      <td>1.333705</td>\n",
       "      <td>1.446897</td>\n",
       "      <td>1.109483</td>\n",
       "      <td>-0.105076</td>\n",
       "      <td>1.189635</td>\n",
       "      <td>-0.358448</td>\n",
       "      <td>0.142550</td>\n",
       "      <td>1</td>\n",
       "      <td>0</td>\n",
       "      <td>0</td>\n",
       "      <td>1</td>\n",
       "    </tr>\n",
       "    <tr>\n",
       "      <th>2</th>\n",
       "      <td>0</td>\n",
       "      <td>-1.390802</td>\n",
       "      <td>0.961537</td>\n",
       "      <td>0.372650</td>\n",
       "      <td>0.217310</td>\n",
       "      <td>0.745863</td>\n",
       "      <td>-0.565878</td>\n",
       "      <td>-0.776295</td>\n",
       "      <td>-1.632756</td>\n",
       "      <td>0.720003</td>\n",
       "      <td>1.205256</td>\n",
       "      <td>0.505021</td>\n",
       "      <td>1</td>\n",
       "      <td>0</td>\n",
       "      <td>1</td>\n",
       "      <td>0</td>\n",
       "    </tr>\n",
       "    <tr>\n",
       "      <th>3</th>\n",
       "      <td>0</td>\n",
       "      <td>0.731293</td>\n",
       "      <td>-0.403763</td>\n",
       "      <td>1.342911</td>\n",
       "      <td>-0.565698</td>\n",
       "      <td>-1.448746</td>\n",
       "      <td>-0.565878</td>\n",
       "      <td>-0.071696</td>\n",
       "      <td>-0.673919</td>\n",
       "      <td>-1.523794</td>\n",
       "      <td>2.275762</td>\n",
       "      <td>-0.634173</td>\n",
       "      <td>0</td>\n",
       "      <td>1</td>\n",
       "      <td>1</td>\n",
       "      <td>0</td>\n",
       "    </tr>\n",
       "    <tr>\n",
       "      <th>4</th>\n",
       "      <td>0</td>\n",
       "      <td>1.792340</td>\n",
       "      <td>-0.635606</td>\n",
       "      <td>-0.597610</td>\n",
       "      <td>1.104719</td>\n",
       "      <td>-0.077115</td>\n",
       "      <td>-0.565878</td>\n",
       "      <td>-0.277119</td>\n",
       "      <td>-1.075553</td>\n",
       "      <td>0.667822</td>\n",
       "      <td>-0.260956</td>\n",
       "      <td>1.126399</td>\n",
       "      <td>0</td>\n",
       "      <td>1</td>\n",
       "      <td>1</td>\n",
       "      <td>0</td>\n",
       "    </tr>\n",
       "  </tbody>\n",
       "</table>\n",
       "</div>"
      ],
      "text/plain": [
       "  Churn  number customer service calls  account length  total intl calls  \\\n",
       "0     0                      -0.329755        0.729694         -0.597610   \n",
       "1     0                      -0.329755        0.188726         -0.597610   \n",
       "2     0                      -1.390802        0.961537          0.372650   \n",
       "3     0                       0.731293       -0.403763          1.342911   \n",
       "4     0                       1.792340       -0.635606         -0.597610   \n",
       "\n",
       "   total night calls  total intl minutes  number vmail messages  \\\n",
       "0          -0.461297           -0.116305               1.369483   \n",
       "1           0.165109            1.333705               1.446897   \n",
       "2           0.217310            0.745863              -0.565878   \n",
       "3          -0.565698           -1.448746              -0.565878   \n",
       "4           1.104719           -0.077115              -0.565878   \n",
       "\n",
       "   total night minutes  total eve minutes  total day calls  total day minutes  \\\n",
       "0             0.910223          -0.066010         0.511278           1.620077   \n",
       "1             1.109483          -0.105076         1.189635          -0.358448   \n",
       "2            -0.776295          -1.632756         0.720003           1.205256   \n",
       "3            -0.071696          -0.673919        -1.523794           2.275762   \n",
       "4            -0.277119          -1.075553         0.667822          -0.260956   \n",
       "\n",
       "   total eve calls  international plan_0.0  international plan_1.0  \\\n",
       "0        -0.064576                       1                       0   \n",
       "1         0.142550                       1                       0   \n",
       "2         0.505021                       1                       0   \n",
       "3        -0.634173                       0                       1   \n",
       "4         1.126399                       0                       1   \n",
       "\n",
       "   voice mail plan_0.0  voice mail plan_1.0  \n",
       "0                    0                    1  \n",
       "1                    0                    1  \n",
       "2                    1                    0  \n",
       "3                    1                    0  \n",
       "4                    1                    0  "
      ]
     },
     "execution_count": 291,
     "metadata": {},
     "output_type": "execute_result"
    }
   ],
   "source": [
    "logit_reg_model.head()"
   ]
  },
  {
   "cell_type": "code",
   "execution_count": 292,
   "metadata": {},
   "outputs": [
    {
     "name": "stdout",
     "output_type": "stream",
     "text": [
      "<class 'pandas.core.frame.DataFrame'>\n",
      "RangeIndex: 5000 entries, 0 to 4999\n",
      "Data columns (total 16 columns):\n",
      "Churn                            5000 non-null object\n",
      "number customer service calls    5000 non-null float64\n",
      "account length                   5000 non-null float64\n",
      "total intl calls                 5000 non-null float64\n",
      "total night calls                5000 non-null float64\n",
      "total intl minutes               5000 non-null float64\n",
      "number vmail messages            5000 non-null float64\n",
      "total night minutes              5000 non-null float64\n",
      "total eve minutes                5000 non-null float64\n",
      "total day calls                  5000 non-null float64\n",
      "total day minutes                5000 non-null float64\n",
      "total eve calls                  5000 non-null float64\n",
      "international plan_0.0           5000 non-null uint8\n",
      "international plan_1.0           5000 non-null uint8\n",
      "voice mail plan_0.0              5000 non-null uint8\n",
      "voice mail plan_1.0              5000 non-null uint8\n",
      "dtypes: float64(11), object(1), uint8(4)\n",
      "memory usage: 488.4+ KB\n"
     ]
    }
   ],
   "source": [
    "logit_reg_model.info()"
   ]
  },
  {
   "cell_type": "code",
   "execution_count": 293,
   "metadata": {},
   "outputs": [],
   "source": [
    "# Separating train and test data\n",
    "train_LR = logit_reg_model.iloc[0:3333,]\n",
    "test_LR = logit_reg_model.iloc[3333:5000,]\n",
    "test_LR = test_LR.reset_index(drop=True)"
   ]
  },
  {
   "cell_type": "code",
   "execution_count": 294,
   "metadata": {},
   "outputs": [
    {
     "data": {
      "text/plain": [
       "(3333, 16)"
      ]
     },
     "execution_count": 294,
     "metadata": {},
     "output_type": "execute_result"
    }
   ],
   "source": [
    "train_LR.shape"
   ]
  },
  {
   "cell_type": "code",
   "execution_count": 296,
   "metadata": {},
   "outputs": [
    {
     "data": {
      "text/plain": [
       "(1667, 16)"
      ]
     },
     "execution_count": 296,
     "metadata": {},
     "output_type": "execute_result"
    }
   ],
   "source": [
    "test_LR.shape"
   ]
  },
  {
   "cell_type": "code",
   "execution_count": 301,
   "metadata": {},
   "outputs": [],
   "source": [
    "# Storing column names of independent variables\n",
    "train_LR_cols = train_LR.columns[1:16]"
   ]
  },
  {
   "cell_type": "code",
   "execution_count": 302,
   "metadata": {},
   "outputs": [
    {
     "data": {
      "text/plain": [
       "Index(['number customer service calls', 'account length', 'total intl calls',\n",
       "       'total night calls', 'total intl minutes', 'number vmail messages',\n",
       "       'total night minutes', 'total eve minutes', 'total day calls',\n",
       "       'total day minutes', 'total eve calls', 'international plan_0.0',\n",
       "       'international plan_1.0', 'voice mail plan_0.0', 'voice mail plan_1.0'],\n",
       "      dtype='object')"
      ]
     },
     "execution_count": 302,
     "metadata": {},
     "output_type": "execute_result"
    }
   ],
   "source": [
    "train_LR_cols"
   ]
  },
  {
   "cell_type": "code",
   "execution_count": 303,
   "metadata": {},
   "outputs": [
    {
     "name": "stdout",
     "output_type": "stream",
     "text": [
      "Optimization terminated successfully.\n",
      "         Current function value: 0.355395\n",
      "         Iterations 7\n"
     ]
    },
    {
     "data": {
      "text/html": [
       "<table class=\"simpletable\">\n",
       "<caption>Logit Regression Results</caption>\n",
       "<tr>\n",
       "  <th>Dep. Variable:</th>       <td>Churn</td>      <th>  No. Observations:  </th>  <td>  3333</td>  \n",
       "</tr>\n",
       "<tr>\n",
       "  <th>Model:</th>               <td>Logit</td>      <th>  Df Residuals:      </th>  <td>  3319</td>  \n",
       "</tr>\n",
       "<tr>\n",
       "  <th>Method:</th>               <td>MLE</td>       <th>  Df Model:          </th>  <td>    13</td>  \n",
       "</tr>\n",
       "<tr>\n",
       "  <th>Date:</th>          <td>Sun, 17 Feb 2019</td> <th>  Pseudo R-squ.:     </th>  <td>0.1411</td>  \n",
       "</tr>\n",
       "<tr>\n",
       "  <th>Time:</th>              <td>20:52:07</td>     <th>  Log-Likelihood:    </th> <td> -1184.5</td> \n",
       "</tr>\n",
       "<tr>\n",
       "  <th>converged:</th>           <td>True</td>       <th>  LL-Null:           </th> <td> -1379.1</td> \n",
       "</tr>\n",
       "<tr>\n",
       "  <th> </th>                      <td> </td>        <th>  LLR p-value:       </th> <td>4.203e-75</td>\n",
       "</tr>\n",
       "</table>\n",
       "<table class=\"simpletable\">\n",
       "<tr>\n",
       "                <td></td>                   <th>coef</th>     <th>std err</th>      <th>z</th>      <th>P>|z|</th>  <th>[0.025</th>    <th>0.975]</th>  \n",
       "</tr>\n",
       "<tr>\n",
       "  <th>number customer service calls</th> <td>   -0.0226</td> <td>    0.053</td> <td>   -0.430</td> <td> 0.667</td> <td>   -0.126</td> <td>    0.081</td>\n",
       "</tr>\n",
       "<tr>\n",
       "  <th>account length</th>                <td>    0.0299</td> <td>    0.053</td> <td>    0.566</td> <td> 0.571</td> <td>   -0.074</td> <td>    0.133</td>\n",
       "</tr>\n",
       "<tr>\n",
       "  <th>total intl calls</th>              <td>   -0.2382</td> <td>    0.055</td> <td>   -4.319</td> <td> 0.000</td> <td>   -0.346</td> <td>   -0.130</td>\n",
       "</tr>\n",
       "<tr>\n",
       "  <th>total night calls</th>             <td>    0.0066</td> <td>    0.053</td> <td>    0.123</td> <td> 0.902</td> <td>   -0.098</td> <td>    0.111</td>\n",
       "</tr>\n",
       "<tr>\n",
       "  <th>total intl minutes</th>            <td>    0.1527</td> <td>    0.053</td> <td>    2.859</td> <td> 0.004</td> <td>    0.048</td> <td>    0.257</td>\n",
       "</tr>\n",
       "<tr>\n",
       "  <th>number vmail messages</th>         <td>    0.2996</td> <td>    0.214</td> <td>    1.399</td> <td> 0.162</td> <td>   -0.120</td> <td>    0.719</td>\n",
       "</tr>\n",
       "<tr>\n",
       "  <th>total night minutes</th>           <td>    0.1706</td> <td>    0.053</td> <td>    3.201</td> <td> 0.001</td> <td>    0.066</td> <td>    0.275</td>\n",
       "</tr>\n",
       "<tr>\n",
       "  <th>total eve minutes</th>             <td>    0.2691</td> <td>    0.054</td> <td>    5.003</td> <td> 0.000</td> <td>    0.164</td> <td>    0.375</td>\n",
       "</tr>\n",
       "<tr>\n",
       "  <th>total day calls</th>               <td>    0.0556</td> <td>    0.052</td> <td>    1.069</td> <td> 0.285</td> <td>   -0.046</td> <td>    0.158</td>\n",
       "</tr>\n",
       "<tr>\n",
       "  <th>total day minutes</th>             <td>    0.5638</td> <td>    0.055</td> <td>   10.315</td> <td> 0.000</td> <td>    0.457</td> <td>    0.671</td>\n",
       "</tr>\n",
       "<tr>\n",
       "  <th>total eve calls</th>               <td>    0.0042</td> <td>    0.053</td> <td>    0.078</td> <td> 0.938</td> <td>   -0.101</td> <td>    0.109</td>\n",
       "</tr>\n",
       "<tr>\n",
       "  <th>international plan_0.0</th>        <td>   -1.7691</td> <td> 2.92e+06</td> <td>-6.05e-07</td> <td> 1.000</td> <td>-5.73e+06</td> <td> 5.73e+06</td>\n",
       "</tr>\n",
       "<tr>\n",
       "  <th>international plan_1.0</th>        <td>    0.0612</td> <td> 2.92e+06</td> <td> 2.09e-08</td> <td> 1.000</td> <td>-5.73e+06</td> <td> 5.73e+06</td>\n",
       "</tr>\n",
       "<tr>\n",
       "  <th>voice mail plan_0.0</th>           <td>   -0.0751</td> <td> 2.92e+06</td> <td>-2.57e-08</td> <td> 1.000</td> <td>-5.73e+06</td> <td> 5.73e+06</td>\n",
       "</tr>\n",
       "<tr>\n",
       "  <th>voice mail plan_1.0</th>           <td>   -1.6327</td> <td> 2.92e+06</td> <td>-5.58e-07</td> <td> 1.000</td> <td>-5.73e+06</td> <td> 5.73e+06</td>\n",
       "</tr>\n",
       "</table>"
      ],
      "text/plain": [
       "<class 'statsmodels.iolib.summary.Summary'>\n",
       "\"\"\"\n",
       "                           Logit Regression Results                           \n",
       "==============================================================================\n",
       "Dep. Variable:                  Churn   No. Observations:                 3333\n",
       "Model:                          Logit   Df Residuals:                     3319\n",
       "Method:                           MLE   Df Model:                           13\n",
       "Date:                Sun, 17 Feb 2019   Pseudo R-squ.:                  0.1411\n",
       "Time:                        20:52:07   Log-Likelihood:                -1184.5\n",
       "converged:                       True   LL-Null:                       -1379.1\n",
       "                                        LLR p-value:                 4.203e-75\n",
       "=================================================================================================\n",
       "                                    coef    std err          z      P>|z|      [0.025      0.975]\n",
       "-------------------------------------------------------------------------------------------------\n",
       "number customer service calls    -0.0226      0.053     -0.430      0.667      -0.126       0.081\n",
       "account length                    0.0299      0.053      0.566      0.571      -0.074       0.133\n",
       "total intl calls                 -0.2382      0.055     -4.319      0.000      -0.346      -0.130\n",
       "total night calls                 0.0066      0.053      0.123      0.902      -0.098       0.111\n",
       "total intl minutes                0.1527      0.053      2.859      0.004       0.048       0.257\n",
       "number vmail messages             0.2996      0.214      1.399      0.162      -0.120       0.719\n",
       "total night minutes               0.1706      0.053      3.201      0.001       0.066       0.275\n",
       "total eve minutes                 0.2691      0.054      5.003      0.000       0.164       0.375\n",
       "total day calls                   0.0556      0.052      1.069      0.285      -0.046       0.158\n",
       "total day minutes                 0.5638      0.055     10.315      0.000       0.457       0.671\n",
       "total eve calls                   0.0042      0.053      0.078      0.938      -0.101       0.109\n",
       "international plan_0.0           -1.7691   2.92e+06  -6.05e-07      1.000   -5.73e+06    5.73e+06\n",
       "international plan_1.0            0.0612   2.92e+06   2.09e-08      1.000   -5.73e+06    5.73e+06\n",
       "voice mail plan_0.0              -0.0751   2.92e+06  -2.57e-08      1.000   -5.73e+06    5.73e+06\n",
       "voice mail plan_1.0              -1.6327   2.92e+06  -5.58e-07      1.000   -5.73e+06    5.73e+06\n",
       "=================================================================================================\n",
       "\"\"\""
      ]
     },
     "execution_count": 303,
     "metadata": {},
     "output_type": "execute_result"
    }
   ],
   "source": [
    "#Built Logistic Regression\n",
    "import statsmodels.api as sm\n",
    "\n",
    "logit = sm.Logit(train_LR['Churn'].astype('float'), train_LR[train_LR_cols].astype('float')).fit()\n",
    "\n",
    "logit.summary()"
   ]
  },
  {
   "cell_type": "code",
   "execution_count": 305,
   "metadata": {},
   "outputs": [],
   "source": [
    "#Predict test data\n",
    "test_LR['Actual_prob'] = logit.predict(test_LR[train_LR_cols])\n",
    "test_LR['ActualVal'] = 1\n",
    "test_LR.loc[test_LR.Actual_prob < 0.5, 'ActualVal'] = 0\n"
   ]
  },
  {
   "cell_type": "code",
   "execution_count": 306,
   "metadata": {},
   "outputs": [],
   "source": [
    "#Build confusion matrix\n",
    "CM = pd.crosstab(test_LR['Churn'], test_LR['ActualVal'])\n",
    "\n",
    "#let us save TP, TN, FP, FN\n",
    "TN = CM.iloc[0,0]\n",
    "FN = CM.iloc[1,0]\n",
    "TP = CM.iloc[1,1]\n",
    "FP = CM.iloc[0,1]\n",
    "\n",
    "\n",
    "Accuracy_LR=((TP+TN)*100)/(TP+TN+FP+FN)\n",
    "\n",
    "FNR_LR = (FN*100)/(FN+TP)\n",
    "\n",
    "#Accuracy: 87.22\n",
    "#FNR: 87.05"
   ]
  },
  {
   "cell_type": "code",
   "execution_count": 307,
   "metadata": {},
   "outputs": [
    {
     "data": {
      "text/plain": [
       "87.22255548890222"
      ]
     },
     "execution_count": 307,
     "metadata": {},
     "output_type": "execute_result"
    }
   ],
   "source": [
    "Accuracy_LR"
   ]
  },
  {
   "cell_type": "code",
   "execution_count": 308,
   "metadata": {},
   "outputs": [
    {
     "data": {
      "text/plain": [
       "87.05357142857143"
      ]
     },
     "execution_count": 308,
     "metadata": {},
     "output_type": "execute_result"
    }
   ],
   "source": [
    "FNR_LR"
   ]
  },
  {
   "cell_type": "code",
   "execution_count": null,
   "metadata": {},
   "outputs": [],
   "source": []
  }
 ],
 "metadata": {
  "kernelspec": {
   "display_name": "Python 3",
   "language": "python",
   "name": "python3"
  },
  "language_info": {
   "codemirror_mode": {
    "name": "ipython",
    "version": 3
   },
   "file_extension": ".py",
   "mimetype": "text/x-python",
   "name": "python",
   "nbconvert_exporter": "python",
   "pygments_lexer": "ipython3",
   "version": "3.6.8"
  }
 },
 "nbformat": 4,
 "nbformat_minor": 2
}
